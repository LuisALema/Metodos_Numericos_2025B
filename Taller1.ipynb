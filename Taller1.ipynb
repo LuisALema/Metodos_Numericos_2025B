{
 "cells": [
  {
   "cell_type": "markdown",
   "id": "22bf28e4",
   "metadata": {},
   "source": [
    "## Taller N° 1 \n",
    "- **Nombre:** Luis Alexander Lema Delgado  \n",
    "- **Materia**: Metodos Numericos\n",
    "- **Fecha**: 13 de Octubre de 2025\n",
    "- **Profesor**: JONATHAN ALEJANDRO ZEA GUACHAMIN"
   ]
  },
  {
   "cell_type": "markdown",
   "id": "8a2861da",
   "metadata": {},
   "source": [
    "### Ejercicio 1"
   ]
  },
  {
   "cell_type": "code",
   "execution_count": null,
   "id": "0541f319",
   "metadata": {},
   "outputs": [
    {
     "name": "stdout",
     "output_type": "stream",
     "text": [
      "La suma total es: 1.96875\n",
      "El error porcentual es: 1.5625 %\n",
      "\n",
      "Condición alcanzada: error absoluto < 0.10\n",
      "Error absoluto final: 0.03125\n",
      "Iteración en la que se logró: 6\n"
     ]
    }
   ],
   "source": [
    "def sumar_elementos(valores):\n",
    "    total = 0\n",
    "    for n in valores:\n",
    "        total += n\n",
    "    return total\n",
    "\n",
    "datos = [1, 1/2, 1/4, 1/8, 1/16, 1/32]\n",
    "\n",
    "suma_total = sumar_elementos(datos)\n",
    "print(\"La suma total es:\", suma_total)\n",
    "\n",
    "error_relativo = abs((suma_total - 2) / 2) * 100\n",
    "print(\"El error porcentual es:\", error_relativo, \"%\")\n",
    "\n",
    "# Error Absoluto\n",
    "error_absoluto = abs(2 - suma_total)\n",
    "iteracion = len(datos)\n",
    "\n",
    "while error_absoluto >= 0.10:\n",
    "    nuevo_termino = datos[-1] / 2\n",
    "    datos.append(nuevo_termino)\n",
    "    iteracion += 1\n",
    "    suma_total = sumar_elementos(datos)\n",
    "    error_absoluto = abs(2 - suma_total)\n",
    "\n",
    "print(\"Condición alcanzada: error absoluto < 0.10\")\n",
    "print(\"Error absoluto final:\", error_absoluto)\n",
    "print(\"Iteración en la que se logró:\", iteracion)\n"
   ]
  },
  {
   "cell_type": "markdown",
   "id": "10bdaef2",
   "metadata": {},
   "source": [
    "### Ejercicio 2"
   ]
  },
  {
   "cell_type": "code",
   "execution_count": 4,
   "id": "4cbd071d",
   "metadata": {},
   "outputs": [
    {
     "name": "stdout",
     "output_type": "stream",
     "text": [
      "Caso de prueba v2: [-1, 0, 4, 5, 6, 7]\n",
      "Lista ordenada: [-1, 0, 4, 5, 6, 7]\n",
      "Comparaciones realizadas: 5\n",
      "--------------------------------------------------\n",
      "Caso de prueba v3: lista de 100,000 números generada.\n"
     ]
    }
   ],
   "source": [
    "import random  # Para generar números aleatorios\n",
    "\n",
    "def ordenar_burbuja(valores):\n",
    "    total = len(valores)\n",
    "    conteo = 0\n",
    "\n",
    "    for pasada in range(total - 1):\n",
    "        intercambio = False\n",
    "        for k in range(total - pasada - 1):\n",
    "            conteo += 1\n",
    "            if valores[k] > valores[k + 1]:\n",
    "                valores[k], valores[k + 1] = valores[k + 1], valores[k]\n",
    "                intercambio = True\n",
    "        if not intercambio:\n",
    "            break\n",
    "    return valores, conteo\n",
    "\n",
    "# Caso de prueba 2: v2 = [-1, 0, 4, 5, 6, 7]\n",
    "v2 = [-1, 0, 4, 5, 6, 7]\n",
    "print(\"Caso de prueba v2:\", v2)\n",
    "ordenada_v2, comp_v2 = ordenar_burbuja(v2.copy())\n",
    "print(\"Lista ordenada:\", ordenada_v2)\n",
    "print(\"Comparaciones realizadas:\", comp_v2)\n",
    "print(\"-\" * 50)\n",
    "\n",
    "# Caso de prueba 3: v3 = 100,000 números aleatorios entre -200 y 145\n",
    "v3 = [random.randint(-200, 145) for _ in range(100_000)]\n",
    "print(\"Caso de prueba v3: lista de 100,000 números generada.\")\n",
    "\n",
    "\n"
   ]
  },
  {
   "cell_type": "markdown",
   "id": "a40a65d3",
   "metadata": {},
   "source": [
    "### Ejercicio 3"
   ]
  },
  {
   "cell_type": "code",
   "execution_count": 5,
   "id": "13841539",
   "metadata": {},
   "outputs": [
    {
     "name": "stdout",
     "output_type": "stream",
     "text": [
      "1 1\n",
      "2 1\n",
      "3 2\n",
      "4 3\n",
      "5 5\n",
      "6 8\n",
      "7 13\n",
      "8 21\n",
      "9 34\n",
      "10 55\n",
      "11 89\n",
      "fib(84) = 55\n",
      "fib(1531) = 610\n",
      "\n",
      "Cocientes fib(n)/fib(n-1):\n",
      "2 = 1 / 1 = 1.0\n",
      "3 = 2 / 1 = 2.0\n",
      "4 = 3 / 2 = 1.5\n",
      "5 = 5 / 3 = 1.6666666666666667\n",
      "6 = 8 / 5 = 1.6\n",
      "7 = 13 / 8 = 1.625\n",
      "8 = 21 / 13 = 1.6153846153846154\n",
      "9 = 34 / 21 = 1.619047619047619\n",
      "10 = 55 / 34 = 1.6176470588235294\n",
      "11 = 89 / 55 = 1.6181818181818182\n"
     ]
    },
    {
     "data": {
      "image/png": "[encoded data removed]",
      "text/plain": [
       "<Figure size 640x480 with 1 Axes>"
      ]
     },
     "metadata": {},
     "output_type": "display_data"
    }
   ],
   "source": [
    "import matplotlib.pyplot as plt\n",
    "\n",
    "def fib(n):\n",
    "    if n <= 1:\n",
    "        return n\n",
    "    else:\n",
    "        return fib(n-1) + fib(n-2)\n",
    "\n",
    "n = 11\n",
    "\n",
    "valores = []\n",
    "razones = []\n",
    "\n",
    "for i in range(1, n+1):\n",
    "    f = fib(i)\n",
    "    valores.append(f)\n",
    "    if i > 1:\n",
    "        razones.append(f / fib(i-1))\n",
    "    print(i, f)\n",
    "\n",
    "print(\"fib(84) =\", fib(10))\n",
    "print(\"fib(1531) =\", fib(15))\n",
    "\n",
    "print(\"\\nCocientes fib(n)/fib(n-1):\")\n",
    "for i in range(2, n+1):\n",
    "    print(i, \"=\", fib(i), \"/\", fib(i-1), \"=\", fib(i)/fib(i-1))\n",
    "\n",
    "plt.plot(range(2, n+1), razones, marker='o')\n",
    "plt.axhline(y=1.618, color='r', linestyle='--')\n",
    "plt.title(\"Cociente fib(n)/fib(n-1)\")\n",
    "plt.xlabel(\"n\")\n",
    "plt.ylabel(\"razón\")\n",
    "plt.show()\n"
   ]
  }
 ],
 "metadata": {
  "kernelspec": {
   "display_name": "base",
   "language": "python",
   "name": "python3"
  },
  "language_info": {
   "codemirror_mode": {
    "name": "ipython",
    "version": 3
   },
   "file_extension": ".py",
   "mimetype": "text/x-python",
   "name": "python",
   "nbconvert_exporter": "python",
   "pygments_lexer": "ipython3",
   "version": "3.12.3"
  }
 },
 "nbformat": 4,
 "nbformat_minor": 5
}
